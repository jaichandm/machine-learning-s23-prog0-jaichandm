{
 "cells": [
  {
   "cell_type": "markdown",
   "metadata": {},
   "source": [
    "# Assignment 0 - GitHub classroom and  a tiny bit of python."
   ]
  },
  {
   "cell_type": "markdown",
   "metadata": {},
   "source": [
    "## Part 1\n",
    "* Create a new markdown cell immediately after this cell.\n",
    "* Use a latex formula to express the area of a circle with radius r.   (Check the README for a link to a reference on formulas in LaTex.  Hints:  Look under _Greek Letters_ for pi and _Powers and Indices_ for exponentiation.)\n",
    "* Create a new code cell\n",
    "* Assign the value 7 to the variable r.\n",
    "* Use a nice print to compute and report the area of the circle."
   ]
  },
  {
   "cell_type": "markdown",
   "metadata": {},
   "source": [
    "Area of the Circle: $ \\pi * r^2$"
   ]
  },
  {
   "cell_type": "code",
   "execution_count": 42,
   "metadata": {},
   "outputs": [
    {
     "name": "stdout",
     "output_type": "stream",
     "text": [
      "Area of a circle with radius 7 is: 153.93804002589985\n"
     ]
    }
   ],
   "source": [
    "import math\n",
    "def area_of_circle(r):\n",
    "    return math.pi * r**2\n",
    "\n",
    "r=7\n",
    "print(\"Area of a circle with radius\",r,\"is:\",area_of_circle(r));"
   ]
  },
  {
   "cell_type": "markdown",
   "metadata": {},
   "source": [
    "## Part 2\n",
    "* Create a new code cell immediately after this cell. \n",
    "* Assign the string \"Max \" to the variable `start`.\n",
    "* Print `start`.\n",
    "\n",
    "* Add the following code at the end of the cell\n",
    "```Python\n",
    "times = 4\n",
    "result = start*times + \" Headroom\" \n",
    "print(result)\n",
    "```\n",
    "* Run the cell. Explain the result in a new markdown cell."
   ]
  },
  {
   "cell_type": "code",
   "execution_count": 43,
   "metadata": {},
   "outputs": [
    {
     "name": "stdout",
     "output_type": "stream",
     "text": [
      "Max \n",
      "Max Max Max Max  Headroom\n"
     ]
    }
   ],
   "source": [
    "start = \"Max \"\n",
    "print(start)\n",
    "times = 4\n",
    "result = start*times + \" Headroom\" \n",
    "print(result)"
   ]
  },
  {
   "cell_type": "markdown",
   "metadata": {},
   "source": [
    "## Explaination:\n",
    "* Initially **start** stores value \"Max\" \n",
    "* **start*times** here the string value is multiplied by integer which returns a new string. This new string is the original string, repeated *4* times.\n",
    "* This string then concatinates with \" Headroom\" and stored in *result* varilable.\n",
    "* print command then print the value stored in result.\n"
   ]
  },
  {
   "cell_type": "markdown",
   "metadata": {},
   "source": [
    "## Bonus\n",
    "* Create a new code cell.\n",
    "* Prompt the user for their favorite number `n` and compute and print n raised to the power n."
   ]
  },
  {
   "cell_type": "code",
   "execution_count": 44,
   "metadata": {},
   "outputs": [
    {
     "name": "stdout",
     "output_type": "stream",
     "text": [
      "Enter an Integer value for \"n\":2\n",
      "2 raised to the power 2 : 4\n"
     ]
    }
   ],
   "source": [
    "n=int(input(\"Enter an Integer value for \\\"n\\\":\"))\n",
    "print(n,\"raised to the power\",n,\":\",pow(n,n))"
   ]
  }
 ],
 "metadata": {
  "kernelspec": {
   "display_name": "Python 3 (ipykernel)",
   "language": "python",
   "name": "python3"
  },
  "language_info": {
   "codemirror_mode": {
    "name": "ipython",
    "version": 3
   },
   "file_extension": ".py",
   "mimetype": "text/x-python",
   "name": "python",
   "nbconvert_exporter": "python",
   "pygments_lexer": "ipython3",
   "version": "3.9.13"
  }
 },
 "nbformat": 4,
 "nbformat_minor": 4
}
